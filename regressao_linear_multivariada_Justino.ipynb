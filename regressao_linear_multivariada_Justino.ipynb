{
  "nbformat": 4,
  "nbformat_minor": 0,
  "metadata": {
    "colab": {
      "provenance": [],
      "authorship_tag": "ABX9TyP1yqyHpaxe6neggFUZ32+/",
      "include_colab_link": true
    },
    "kernelspec": {
      "name": "python3",
      "display_name": "Python 3"
    },
    "language_info": {
      "name": "python"
    }
  },
  "cells": [
    {
      "cell_type": "markdown",
      "metadata": {
        "id": "view-in-github",
        "colab_type": "text"
      },
      "source": [
        "<a href=\"https://colab.research.google.com/github/Mestrie/Regress-o_linear_atv3/blob/main/regressao_linear_multivariada_Justino.ipynb\" target=\"_parent\"><img src=\"https://colab.research.google.com/assets/colab-badge.svg\" alt=\"Open In Colab\"/></a>"
      ]
    },
    {
      "cell_type": "code",
      "execution_count": null,
      "metadata": {
        "id": "9oNdNBjafWf6"
      },
      "outputs": [],
      "source": [
        "# Functions/compute_cost_multi.py\n",
        "\"\"\"\n",
        "@file compute_cost_multi.py\n",
        "@brief Computes the cost for multivariate linear regression.\n",
        "@details Este módulo contém uma função para calcular o custo de um modelo de regressão linear\n",
        "          multivariada utilizando a função de custo de erro quadrático médio.\n",
        "@author Your Name <your.email@example.com>\n",
        "\"\"\"\n",
        "\n",
        "import numpy as np\n",
        "\n",
        "\n",
        "def compute_cost_multi(X, y, theta):\n",
        "    \"\"\"\n",
        "    Calcula o custo para regressão linear multivariada.\n",
        "\n",
        "    A função de custo é definida como:\n",
        "        J(θ) = (1 / (2m)) * (Xθ - y)ᵀ (Xθ - y)\n",
        "\n",
        "    :param (ndarray) X: Matriz de features incluindo o termo de intercepto (shape: m × n+1).\n",
        "    :param (ndarray) y: Vetor de valores alvo (shape: m,).\n",
        "    :param (ndarray) theta: Vetor de parâmetros (shape: n+1,).\n",
        "    :return (float): Valor do custo calculado.\n",
        "    \"\"\"\n",
        "    # get the number of training examples\n",
        "    m =\n",
        "    # compute the predictions using the linear model by formula h(θ) = X @ θ\n",
        "    # where @ is the matrix multiplication operator\n",
        "    predictions =\n",
        "    # compute the error vector between predictions and actual values\n",
        "    # The error is the difference between the predicted values and the actual values\n",
        "    # errors = predictions - y\n",
        "    errors =\n",
        "    # compute the cost as the mean squared error cost function using the formula in the docstring\n",
        "    cost =\n",
        "    return cost"
      ]
    }
  ]
}