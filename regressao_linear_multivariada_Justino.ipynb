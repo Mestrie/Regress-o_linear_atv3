{
  "nbformat": 4,
  "nbformat_minor": 0,
  "metadata": {
    "colab": {
      "provenance": [],
      "authorship_tag": "ABX9TyOfE+toSPDKfsJiNTm7R9AC",
      "include_colab_link": true
    },
    "kernelspec": {
      "name": "python3",
      "display_name": "Python 3"
    },
    "language_info": {
      "name": "python"
    }
  },
  "cells": [
    {
      "cell_type": "markdown",
      "metadata": {
        "id": "view-in-github",
        "colab_type": "text"
      },
      "source": [
        "<a href=\"https://colab.research.google.com/github/Mestrie/Regress-o_linear_atv3/blob/main/regressao_linear_multivariada_Justino.ipynb\" target=\"_parent\"><img src=\"https://colab.research.google.com/assets/colab-badge.svg\" alt=\"Open In Colab\"/></a>"
      ]
    },
    {
      "cell_type": "markdown",
      "source": [
        "##features_normalize"
      ],
      "metadata": {
        "id": "xHti1_5NloMP"
      }
    },
    {
      "cell_type": "code",
      "execution_count": 1,
      "metadata": {
        "id": "9oNdNBjafWf6"
      },
      "outputs": [],
      "source": [
        "# Functions/feature_normalize.py\n",
        "\"\"\"\n",
        "@file features_normalizes.py\n",
        "@brief Funções para normalização de features em datasets.\n",
        "@details Este módulo contém funções para normalizar as features de um dataset\n",
        "          utilizando diferentes abordagens, como média e desvio padrão, ou\n",
        "          mínimo e máximo.\n",
        "@author Your Name <your.email@example.com>\n",
        "\"\"\"\n",
        "import numpy as np\n",
        "\n",
        "\n",
        "def features_normalize_by_std(X):\n",
        "    \"\"\"\n",
        "    Normaliza as features de um dataset para média zero e desvio padrão unitário.\n",
        "    Matematicamente, a formula utilizada é:\n",
        "        X_norm = (X - mu) / sigma\n",
        "    onde:\n",
        "        - X é a matriz de entrada (m x n) onde m é o número de amostras e n é o número de features.\n",
        "        - mu é o vetor de médias (1 x n) de cada feature.\n",
        "        - sigma é o vetor de desvios padrão (1 x n) de cada feature.\n",
        "\n",
        "    :param (ndarray) X: Matriz de entrada onde cada linha é uma amostra e cada coluna é uma feature.\n",
        "    :return (tuple): Uma tripla contendo:\n",
        "        - X_norm (ndarray): Matriz normalizada.\n",
        "        - mu (ndarray): Vetor com as médias de cada feature.\n",
        "        - sigma (ndarray): Vetor com os desvios padrão de cada feature.\n",
        "    \"\"\"\n",
        "    # Calcula a média de cada feature (coluna)\n",
        "    mu = np.mean(X, axis=0)\n",
        "\n",
        "    # Calcula o desvio padrão de cada feature (coluna)\n",
        "    sigma = np.std(X, axis=0)\n",
        "\n",
        "    # Normaliza as features subtraindo a média e dividindo pelo desvio padrão\n",
        "    # Verifica se sigma é zero (o que indicaria que todas as amostras têm o mesmo valor na feature)\n",
        "    # Se sigma for zero, substitui por 1 para evitar divisão por zero\n",
        "    # Isso garante que a normalização não cause problemas numéricos\n",
        "    # e que a feature não seja eliminada do conjunto de dados\n",
        "    if np.any(sigma == 0):\n",
        "        sigma[sigma == 0] = 1\n",
        "\n",
        "    # Normaliza as features\n",
        "    X_norm = (X - mu) / sigma\n",
        "\n",
        "    return X_norm, mu, sigma\n",
        "\n",
        "\n",
        "def features_normalizes_by_min_max(X):\n",
        "    \"\"\"\n",
        "    Normaliza as features de um dataset para o intervalo [0, 1] utilizando o mínimo e o máximo.\n",
        "    Matematicamente, a formula utilizada é:\n",
        "        X_norm = (X - min) / (max - min)\n",
        "    onde:\n",
        "        - X é a matriz de entrada (m x n) onde m é o número de amostras e n é o número de features.\n",
        "        - min é o vetor de mínimos (1 x n) de cada feature.\n",
        "        - max é o vetor de máximos (1 x n) de cada feature.\n",
        "\n",
        "    :param (ndarray) X: Matriz de entrada onde cada linha é uma amostra e cada coluna é uma feature.\n",
        "    :return (tuple): Uma tupla contendo:\n",
        "        - X_norm (ndarray): Matriz normalizada.\n",
        "        - min (ndarray): Vetor com os valores mínimos de cada feature.\n",
        "        - max (ndarray): Vetor com os valores máximos de cada feature.\n",
        "    \"\"\"\n",
        "    # Calcula o mínimo de cada feature (coluna)\n",
        "    min = np.min(X, axis=0)\n",
        "\n",
        "    # Calcula o máximo de cada feature (coluna)\n",
        "    max = np.max(X, axis=0)\n",
        "\n",
        "    # Normaliza as features subtraindo o mínimo e dividindo pela diferença entre máximo e mínimo\n",
        "    # Verifica se max - min é zero (o que indicaria que todas as amostras têm o mesmo valor na feature)\n",
        "    # Se max - min for zero, substitui por 1 para evitar divisão por zero\n",
        "    # Isso garante que a normalização não cause problemas numéricos\n",
        "    # e que a feature não seja eliminada do conjunto de dados\n",
        "    range_ = max - min\n",
        "    range_[range_ == 0] = 1\n",
        "\n",
        "    # Normaliza as features\n",
        "    X_norm = (X - min) / range_\n",
        "\n",
        "    return X_norm, min, max\n"
      ]
    }
  ]
}